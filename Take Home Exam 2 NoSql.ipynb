{
 "cells": [
  {
   "cell_type": "markdown",
   "metadata": {},
   "source": [
    "# Info 6210\n",
    "## Take Home Exam Part 2 : NoSQL\n"
   ]
  },
  {
   "cell_type": "raw",
   "metadata": {},
   "source": [
    "This Exam is done by the group member of Daxiao Wang, Tian Jin and Le Li.We used the database of assignment2, a SQL version databse with the topic of games. In this exam,first, we are going to modify the data and transfer them in to NoSQL version. Then we will answer the questions by using Mongo DB with NoSql.\n",
    "\n",
    "A brief intro of Assignment2:\n",
    "In the assignment of 2, we chose the topic of games. The purpose of this project is to find the people’s opinion and give a recommendation level for video games based on the gamer’s social media site. \n",
    "\n",
    "Database intro:\n",
    "In MySQL database, we have 11 tables.First two tables are 'tag' and 'studio'. They contain the tags(topic:games) we want to collect in social media and the detail infomation of each tag(eg,the name,studio,launch year of the game).The rest of the tables are the game details table.It contains the game id,twitter user id,tweets post time and tweets text.\n",
    "In Mongo DB,we conbined first basic infomation table and remains the rest. Then we import it in to mongo DB."
   ]
  },
  {
   "cell_type": "markdown",
   "metadata": {},
   "source": [
    "How we converted the database in to NoSQL version?\n",
    "\n",
    "Importing the record one by one manually seems impossible since we have thousands of records. So our first approach is to export the datasets individually into CSV files. After that, we import CSV files in to mongoDB by using “mongoimport”, an official tool to make importing CSV, TSV, JSON simple and easy.\n",
    "The second method is to use third party tools called 'Studio3T'. This tools both support SQL language and NoSQL like mongodb. Studio 3T aslo could convert the data directly to the Mongo DB."
   ]
  },
  {
   "cell_type": "raw",
   "metadata": {},
   "source": [
    "For the frist method, we use following code in a Mongo DB shell:\n",
    "\n",
    "mongoimport --db assignment3 --collection PUBG --type csv --headerline -- ignoreBlanks --file c:/csv/PUBG.csv\n",
    "\n",
    "\n",
    "Explanations:\n",
    "--db assignment:’assignment’ is the database name, which we build moments ago. --collection PUBG:’PUBG’ is the collection that we are going to export the data in.\n",
    "If the name of collection ‘PUBG’ doesn’t exsist, mongo DB will automatically create for us. If we ignore the’—collection PUBG’, that means we are not acquire the name of the collection. Mongo DB will create a new collection and named it with the name of the title of CSV file.\n",
    "--type csv:Tell the mongo DB the file we are going to use is a CSV file. --headerline:the imported content will be the field name in the first line of CSV; --ignoreBlanks:ignore the csv null data.\n",
    "--file c:/vsv/pubg.csv:file directory"
   ]
  },
  {
   "cell_type": "markdown",
   "metadata": {},
   "source": [
    "Questions:"
   ]
  },
  {
   "cell_type": "markdown",
   "metadata": {},
   "source": [
    "i. What are people saying about me (somebody)? \n",
    "\n",
    "People saying about something could be answered with the combination of their user name and hashtags. Hashtags are the main topic that the user are actually talking about in this tweets. So just make a list to see what they are saying. For example, we select all the username with the keywords 'Fortnight' from the database then show them all.\n",
    "\n",
    "Using following mongo:\n",
    "\n",
    "\n"
   ]
  },
  {
   "cell_type": "raw",
   "metadata": {},
   "source": [
    "use assignment2;\n",
    "db.Fortnite.find(\n",
    "    { \n",
    "        \"text\" : /^.*#.*$/i\n",
    "    }, \n",
    "    { \n",
    "        \"screen_name\" : NumberInt(1), \n",
    "        \"text\" : NumberInt(1)\n",
    "    }\n",
    ");\n"
   ]
  },
  {
   "cell_type": "markdown",
   "metadata": {},
   "source": [
    "<img src=\"1.png\" width = \"300\" height = \"200\" alt=\"图片名称\" align=center />"
   ]
  },
  {
   "cell_type": "markdown",
   "metadata": {},
   "source": [
    "ii. How viral are my posts? \n",
    "\n",
    "If we want to figure out how viral our posts, we can post a tweet first, then collect the retweets or likes count information after a certain of time.For example we stream the topics of the game called 'Fortnight'and count who has the most amount of likes.If a person has the most of the likes during one specific topic('#Topics'), it shows that this people has most influence.\n",
    "\n",
    "we can use mongo language like this:"
   ]
  },
  {
   "cell_type": "raw",
   "metadata": {},
   "source": [
    "db.Fortnite.find({}, \n",
    "    { \n",
    "        \"screen_name\" : NumberInt(1), \n",
    "        \"favourites_count\" : NumberInt(1), \n",
    "        \"text\" : NumberInt(1)\n",
    "    }\n",
    ").sort(\n",
    "    { \n",
    "        \"favourites_count\" : NumberInt(-1)\n",
    "    }\n",
    ");\n"
   ]
  },
  {
   "cell_type": "markdown",
   "metadata": {},
   "source": [
    "<img src=\"2.png\" width = \"300\" height = \"200\" alt=\"图片名称\" align=center />"
   ]
  },
  {
   "cell_type": "markdown",
   "metadata": {},
   "source": [
    "iii. How much influence to my posts have? \n",
    " \n",
    "This question should based on the previous question to reach the answer. When we talking about the influence,we should consider both retweets amount and likes amount,sometimes, give a balance. For example, in this question, we select the people who get the most likes and retweets from the table.\n",
    "\n",
    "we can use mongo like this:"
   ]
  },
  {
   "cell_type": "raw",
   "metadata": {},
   "source": [
    "db.F1.find({}, \n",
    "    { \n",
    "        \"screen_name\" : NumberInt(1), \n",
    "        \"counttotal\" : NumberInt(1)\n",
    "    }\n",
    ").sort(\n",
    "    { \n",
    "        \"counttotal\" : NumberInt(-1)\n",
    "    }\n",
    ");\n"
   ]
  },
  {
   "cell_type": "markdown",
   "metadata": {},
   "source": [
    "<img src=\"3.png\" width = \"300\" height = \"200\" alt=\"图片名称\" align=center />"
   ]
  },
  {
   "cell_type": "markdown",
   "metadata": {},
   "source": [
    "iv. What posts are like mine?\n",
    " \n",
    "We are going to find who share the same topic with me at this time. Since we have the hashtags(#) indicated the main topic, we can simply find them all.For exmaple, I posted a tweets with the topic of Fortnight,so let's find who contains '#Fortnight' in their post.\n",
    "\n",
    "we can use mongo like this:"
   ]
  },
  {
   "cell_type": "raw",
   "metadata": {},
   "source": [
    "db.F1.find(\n",
    "    { \n",
    "        \"text\" : /^.*fortnight.*$/i\n",
    "    }, \n",
    "    { \n",
    "        \"screen_name\" : NumberInt(1), \n",
    "        \"text\" : NumberInt(1)\n",
    "    }\n",
    ");"
   ]
  },
  {
   "cell_type": "markdown",
   "metadata": {},
   "source": [
    "<img src=\"4.png\" width = \"300\" height = \"200\" alt=\"图片名称\" align=center />"
   ]
  },
  {
   "cell_type": "markdown",
   "metadata": {},
   "source": [
    "v. What users post like me? \n",
    " \n",
    "This question are similar with previous question, but more focus on the people but not the posts. We collect different user's hashtags then compare with myself.For example,we collect a user with hash tags and then find out who has the simiar hashtags with us.\n",
    "\n",
    "we can use mongo like this:\n"
   ]
  },
  {
   "cell_type": "raw",
   "metadata": {},
   "source": [
    "db.user1.aggregate(\n",
    "[ \n",
    "    {\n",
    "        $lookup: {\n",
    "             from: \"user1\", localField: \"tags\", foreignField: \"tags\", as: \"user_tags\"\n",
    "                 } \n",
    "    }\n",
    "])"
   ]
  },
  {
   "cell_type": "markdown",
   "metadata": {},
   "source": [
    "vi. Who should I be following? \n",
    " \n",
    "Sometimes we want to follow the people with high quality. That's means this people have a average of high retweets and likes. Also, this people should has the same favourate topic like us.  To answer the questions, we made a table that collect a specific person that share the same favourites. Also, the table include all his post and the like amounts.\n",
    "\n",
    "We can use mongo average syntax like this:"
   ]
  },
  {
   "cell_type": "raw",
   "metadata": {},
   "source": [
    "db.Zelda.aggregate({ \"$group\": {\n",
    "\"_id\":null,\n",
    "\"avgLikes\": { $avg: \"$favourites_count\" } }\n",
    "})"
   ]
  },
  {
   "cell_type": "markdown",
   "metadata": {},
   "source": [
    "<img src=\"6.png\" width = \"300\" height = \"200\" alt=\"图片名称\" align=center />"
   ]
  },
  {
   "attachments": {},
   "cell_type": "markdown",
   "metadata": {},
   "source": [
    "vii. What topics are trending in my domain?\n",
    "\n",
    "By finding the trending, we first find a topic, games. As we collecting the data, we found some trending in our database. For example, we collect the tweets of PUBG at the same time of a day and continue for several days.\n",
    "\n",
    "we saw the trending indicate that the people are more like to tweets about PUBG on weekends.\n",
    "\n",
    "Using  mongo language like this:\n"
   ]
  },
  {
   "cell_type": "markdown",
   "metadata": {},
   "source": [
    "db.pubgmon.find()\n",
    "db.pubgtue.find()\n",
    "db.pubgwed.find()\n",
    "db.pubgthu.find()\n",
    "..."
   ]
  },
  {
   "cell_type": "markdown",
   "metadata": {},
   "source": [
    "<img src=\"7.png\" width = \"300\" height = \"200\" alt=\"图片名称\" align=center />"
   ]
  },
  {
   "cell_type": "markdown",
   "metadata": {},
   "source": [
    "viii. What keywords/ hashtags should I add to my post? \n",
    " \n",
    "Keywords/hashtags are the topic of one tweets.Our follower could recognize what you are talking in few seconds.\n",
    "So, conclde what you are going to say and put one word to represent whole tweet."
   ]
  },
  {
   "cell_type": "markdown",
   "metadata": {},
   "source": [
    "ix. Should I follow somebody back? \n",
    " \n",
    "Whether we should follow somebody back could based on following 2 decisions:1.Does this person share the same topic with us? Does this user similar with us?---This has already been answered in question iv and v. 2.Is this user a worth follow-back user?---This question also has been answered in question vi."
   ]
  },
  {
   "cell_type": "markdown",
   "metadata": {},
   "source": [
    "x. What is the best time to post?\n",
    "\n",
    "To find the best time to post, we should focus on the most liked tweets and find when they posted in our focus field. we can infer to question ii's code to find the most-likes-tweets, then, see their post time. For example, based on our record, the best time to post is 10:23 am of the day.\n"
   ]
  },
  {
   "cell_type": "markdown",
   "metadata": {},
   "source": [
    "xi. Should I add and picture or url to my post? \n",
    "\n",
    "We should compare the viral between the tweets which contains url/picture  and the tweets without url/picture. We can refer the code of question ii. From our database, we found the post has average more likes than the non-url/pictures."
   ]
  },
  {
   "attachments": {},
   "cell_type": "markdown",
   "metadata": {},
   "source": [
    "xiii. What’s my reach? \n",
    "\n",
    "Reach is a measure of distance and interation.We can use the similarity distances that created above between two user.\n",
    "Similarity is how many similar hashtags(#) between 2 users(users are unfamiliar with each other).There are two steps.\n",
    "Step1. Find a topic as an entry \n",
    "Step2. Select 2 users and use our code to grab their hashtags. Then, save the hashtags in to MySQL database.\n",
    "Interaction is the connections between two people. They probably are my friend or strangers. But they share the common : retweet the same tweet.There are three steps:\n",
    "Step 1. Find a twitter of somebody\n",
    "Step 2. Show the user ID list of people who retweet this tweet\n",
    "Step 3.Make a comparison. Show the people who retweet the tweets are in somebody’s friend list or not.\n",
    "\n",
    "\n",
    "\n"
   ]
  },
  {
   "cell_type": "markdown",
   "metadata": {},
   "source": [
    "This work is licensed under the Creative Commons Attribution 3.0 United States License. To view a copy of this license, visit http://creativecommons.org/licenses/by/3.0/us/ or send a letter to Creative Commons, PO Box 1866, Mountain View, CA 94042, USA."
   ]
  },
  {
   "cell_type": "raw",
   "metadata": {},
   "source": [
    "Copyright <2018> <Daxiao Wang,Tian jin,Le Li>\n",
    "\n",
    "Permission is hereby granted, free of charge, to any person obtaining a copy of this software and associated documentation files (the \"Software\"), to deal in the Software without restriction, including without limitation the rights to use, copy, modify, merge, publish, distribute, sublicense, and/or sell copies of the Software, and to permit persons to whom the Software is furnished to do so, subject to the following conditions:\n",
    "\n",
    "The above copyright notice and this permission notice shall be included in all copies or substantial portions of the Software.\n",
    "\n",
    "THE SOFTWARE IS PROVIDED \"AS IS\", WITHOUT WARRANTY OF ANY KIND, EXPRESS OR IMPLIED, INCLUDING BUT NOT LIMITED TO THE WARRANTIES OF MERCHANTABILITY, FITNESS FOR A PARTICULAR PURPOSE AND NONINFRINGEMENT. IN NO EVENT SHALL THE AUTHORS OR COPYRIGHT HOLDERS BE LIABLE FOR ANY CLAIM, DAMAGES OR OTHER LIABILITY, WHETHER IN AN ACTION OF CONTRACT, TORT OR OTHERWISE, ARISING FROM, OUT OF OR IN CONNECTION WITH THE SOFTWARE OR THE USE OR OTHER DEALINGS IN THE SOFTWARE."
   ]
  }
 ],
 "metadata": {
  "kernelspec": {
   "display_name": "Python 3",
   "language": "python",
   "name": "python3"
  },
  "language_info": {
   "codemirror_mode": {
    "name": "ipython",
    "version": 3
   },
   "file_extension": ".py",
   "mimetype": "text/x-python",
   "name": "python",
   "nbconvert_exporter": "python",
   "pygments_lexer": "ipython3",
   "version": "3.6.3"
  }
 },
 "nbformat": 4,
 "nbformat_minor": 2
}
