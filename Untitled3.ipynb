{
 "cells": [
  {
   "cell_type": "code",
   "execution_count": 157,
   "metadata": {},
   "outputs": [],
   "source": [
    "%matplotlib inline\n",
    "import pymongo\n",
    "from pymongo import MongoClient\n",
    "from pymongo.errors import ConnectionFailure\n",
    "from bson import json_util, ObjectId\n",
    "import pandas as pd\n",
    "from pandas import DataFrame\n",
    "from pandas.io.json import json_normalize\n",
    "import numpy as np\n",
    "import requests\n",
    "import json, os\n",
    "import configparser\n",
    "import matplotlib.pyplot as plt\n",
    "import numpy as np\n",
    "from scipy import stats\n",
    "import seaborn as sns\n",
    "import warnings\n",
    "import random\n",
    "import pprint\n",
    "from datetime import datetime\n",
    "random.seed(datetime.now())\n",
    "warnings.filterwarnings('ignore')\n",
    "import csv\n",
    "\n",
    "# Make plots larger\n",
    "plt.rcParams['figure.figsize'] = (10, 6)"
   ]
  },
  {
   "cell_type": "code",
   "execution_count": 158,
   "metadata": {},
   "outputs": [
    {
     "name": "stdout",
     "output_type": "stream",
     "text": [
      "Database(MongoClient(host=['localhost:27017'], document_class=dict, tz_aware=False, connect=True), 'mongo')\n"
     ]
    }
   ],
   "source": [
    "mongodb_host = 'localhost'\n",
    "mongodb_port = '27017'\n",
    "client = MongoClient(mongodb_host +':'+ mongodb_port)\n",
    "database = client['mongo']\n",
    "print (database)"
   ]
  },
  {
   "cell_type": "code",
   "execution_count": 97,
   "metadata": {},
   "outputs": [],
   "source": [
    "#CSV to JSON Conversion\n",
    "csvfile = open('tag.csv','r')\n",
    "reader = csv.DictReader(csvfile)\n",
    "mongo_client=MongoClient() \n",
    "db=mongo_client.database\n",
    "db.segment.drop()\n",
    "header= [ 'name', 'time','text','user_name']\n",
    "\n",
    "for each in reader:\n",
    "    row={}\n",
    "    for field in header:\n",
    "        row[field]=each[field]\n",
    "\n",
    "    db.segment.insert_one(row)"
   ]
  },
  {
   "cell_type": "code",
   "execution_count": 89,
   "metadata": {},
   "outputs": [
    {
     "ename": "NameError",
     "evalue": "name 'use' is not defined",
     "output_type": "error",
     "traceback": [
      "\u001b[0;31m---------------------------------------------------------------------------\u001b[0m",
      "\u001b[0;31mNameError\u001b[0m                                 Traceback (most recent call last)",
      "\u001b[0;32m<ipython-input-89-be6c6ee07287>\u001b[0m in \u001b[0;36m<module>\u001b[0;34m()\u001b[0m\n\u001b[0;32m----> 1\u001b[0;31m \u001b[0muse\u001b[0m\u001b[0;34m(\u001b[0m\u001b[0;34m'tag.csv'\u001b[0m\u001b[0;34m)\u001b[0m\u001b[0;34m;\u001b[0m\u001b[0;34m\u001b[0m\u001b[0m\n\u001b[0m\u001b[1;32m      2\u001b[0m \u001b[0;34m\u001b[0m\u001b[0m\n\u001b[1;32m      3\u001b[0m db.tag.aggregate(\n\u001b[1;32m      4\u001b[0m     [\n\u001b[1;32m      5\u001b[0m         { \n",
      "\u001b[0;31mNameError\u001b[0m: name 'use' is not defined"
     ]
    }
   ],
   "source": [
    "use('tag.csv');\n",
    "\n",
    "db.tag.aggregate(\n",
    "    [\n",
    "        { \n",
    "            \"$group\" : {\n",
    "                \"_id\" : {\n",
    "                    \"name\" : \"$name\"\n",
    "                }, \n",
    "                \"COUNT(*)\" : {\n",
    "                    \"$sum\" : NumberInt(1)\n",
    "                }\n",
    "            }\n",
    "        }, \n",
    "        { \n",
    "            \"$project\" : {\n",
    "                \"_id\" : NumberInt(0), \n",
    "                \"name\" : \"$_id.name\", \n",
    "                \"COUNT(*)\" : \"$COUNT(*)\"\n",
    "            }\n",
    "        }\n",
    "    ]\n",
    ");"
   ]
  },
  {
   "cell_type": "code",
   "execution_count": null,
   "metadata": {},
   "outputs": [],
   "source": []
  },
  {
   "cell_type": "code",
   "execution_count": 111,
   "metadata": {},
   "outputs": [
    {
     "ename": "SyntaxError",
     "evalue": "invalid syntax (<ipython-input-111-942f071286eb>, line 4)",
     "output_type": "error",
     "traceback": [
      "\u001b[0;36m  File \u001b[0;32m\"<ipython-input-111-942f071286eb>\"\u001b[0;36m, line \u001b[0;32m4\u001b[0m\n\u001b[0;31m    \"time\" : /^.*02-27.*$/i\u001b[0m\n\u001b[0m             ^\u001b[0m\n\u001b[0;31mSyntaxError\u001b[0m\u001b[0;31m:\u001b[0m invalid syntax\n"
     ]
    }
   ],
   "source": [
    "use('tag.csv');\n",
    "db.tag.find(\n",
    "    { \n",
    "        \"time\" : /^.*02-27.*$/i\n",
    "    }\n",
    ");"
   ]
  },
  {
   "cell_type": "code",
   "execution_count": 112,
   "metadata": {},
   "outputs": [
    {
     "ename": "NameError",
     "evalue": "name 'use' is not defined",
     "output_type": "error",
     "traceback": [
      "\u001b[0;31m---------------------------------------------------------------------------\u001b[0m",
      "\u001b[0;31mNameError\u001b[0m                                 Traceback (most recent call last)",
      "\u001b[0;32m<ipython-input-112-2f23bfe7b3ba>\u001b[0m in \u001b[0;36m<module>\u001b[0;34m()\u001b[0m\n\u001b[0;32m----> 1\u001b[0;31m \u001b[0muse\u001b[0m \u001b[0;34m(\u001b[0m\u001b[0mTag1D\u001b[0m\u001b[0;34m)\u001b[0m\u001b[0;34m;\u001b[0m\u001b[0;34m\u001b[0m\u001b[0m\n\u001b[0m\u001b[1;32m      2\u001b[0m db.Tag1D.aggregate(\n\u001b[1;32m      3\u001b[0m     [\n\u001b[1;32m      4\u001b[0m         { \n\u001b[1;32m      5\u001b[0m             \"$group\" : {\n",
      "\u001b[0;31mNameError\u001b[0m: name 'use' is not defined"
     ]
    }
   ],
   "source": [
    "use (Tag1D);\n",
    "db.Tag1D.aggregate(\n",
    "    [\n",
    "        { \n",
    "            \"$group\" : {\n",
    "                \"_id\" : {\n",
    "                    \"name\" : \"$name\"\n",
    "                }, \n",
    "                \"COUNT(*)\" : {\n",
    "                    \"$sum\" : NumberInt(1)\n",
    "                }\n",
    "            }\n",
    "        }, \n",
    "        { \n",
    "            \"$project\" : {\n",
    "                \"_id\" : NumberInt(0), \n",
    "                \"name\" : \"$_id.name\", \n",
    "                \"COUNT(*)\" : \"$COUNT(*)\"\n",
    "            }\n",
    "        }\n",
    "    ]\n",
    ");"
   ]
  },
  {
   "cell_type": "code",
   "execution_count": 159,
   "metadata": {},
   "outputs": [],
   "source": [
    "def load_csv(csv):\n",
    "    p=os.path.join(\"/Users/luoyichen/Desktop/\", csv)\n",
    "    print (p)\n",
    "    data=pd.read_csv(p, encoding = \"ISO-8859-1\", engine='python')\n",
    "    return data"
   ]
  },
  {
   "cell_type": "code",
   "execution_count": 160,
   "metadata": {},
   "outputs": [
    {
     "name": "stdout",
     "output_type": "stream",
     "text": [
      "/Users/luoyichen/Desktop/tag.csv\n"
     ]
    },
    {
     "data": {
      "text/html": [
       "<div>\n",
       "<style scoped>\n",
       "    .dataframe tbody tr th:only-of-type {\n",
       "        vertical-align: middle;\n",
       "    }\n",
       "\n",
       "    .dataframe tbody tr th {\n",
       "        vertical-align: top;\n",
       "    }\n",
       "\n",
       "    .dataframe thead th {\n",
       "        text-align: right;\n",
       "    }\n",
       "</style>\n",
       "<table border=\"1\" class=\"dataframe\">\n",
       "  <thead>\n",
       "    <tr style=\"text-align: right;\">\n",
       "      <th></th>\n",
       "      <th>id</th>\n",
       "      <th>name</th>\n",
       "      <th>time</th>\n",
       "      <th>text</th>\n",
       "      <th>user_name</th>\n",
       "    </tr>\n",
       "  </thead>\n",
       "  <tbody>\n",
       "    <tr>\n",
       "      <th>0</th>\n",
       "      <td>1</td>\n",
       "      <td>Sushi bar</td>\n",
       "      <td>2/27/18 23:53</td>\n",
       "      <td>b\"Brought grocery store sushi to the bar but n...</td>\n",
       "      <td>braceandshock</td>\n",
       "    </tr>\n",
       "    <tr>\n",
       "      <th>1</th>\n",
       "      <td>2</td>\n",
       "      <td>Sushi bar</td>\n",
       "      <td>2/27/18 23:40</td>\n",
       "      <td>b\"I'm at Takara Japanese Steakhouse &amp;amp; Sush...</td>\n",
       "      <td>IrepdaK</td>\n",
       "    </tr>\n",
       "    <tr>\n",
       "      <th>2</th>\n",
       "      <td>3</td>\n",
       "      <td>Sushi bar</td>\n",
       "      <td>2/27/18 23:14</td>\n",
       "      <td>b'@kailah_casillas \\xf0\\x9f\\x98\\xab\\xf0\\x9f\\x9...</td>\n",
       "      <td>ReyesMichelle95</td>\n",
       "    </tr>\n",
       "    <tr>\n",
       "      <th>3</th>\n",
       "      <td>4</td>\n",
       "      <td>Sushi bar</td>\n",
       "      <td>2/27/18 23:01</td>\n",
       "      <td>b'Whenever I see shit like the sushi burrito a...</td>\n",
       "      <td>nimamo714</td>\n",
       "    </tr>\n",
       "    <tr>\n",
       "      <th>4</th>\n",
       "      <td>5</td>\n",
       "      <td>Sushi bar</td>\n",
       "      <td>2/27/18 22:55</td>\n",
       "      <td>b'RT @eaterpdx: Mio Sushi checks out of Hollyw...</td>\n",
       "      <td>NickyFaceBoyBoy</td>\n",
       "    </tr>\n",
       "  </tbody>\n",
       "</table>\n",
       "</div>"
      ],
      "text/plain": [
       "   id       name           time  \\\n",
       "0   1  Sushi bar  2/27/18 23:53   \n",
       "1   2  Sushi bar  2/27/18 23:40   \n",
       "2   3  Sushi bar  2/27/18 23:14   \n",
       "3   4  Sushi bar  2/27/18 23:01   \n",
       "4   5  Sushi bar  2/27/18 22:55   \n",
       "\n",
       "                                                text        user_name  \n",
       "0  b\"Brought grocery store sushi to the bar but n...    braceandshock  \n",
       "1  b\"I'm at Takara Japanese Steakhouse &amp; Sush...          IrepdaK  \n",
       "2  b'@kailah_casillas \\xf0\\x9f\\x98\\xab\\xf0\\x9f\\x9...  ReyesMichelle95  \n",
       "3  b'Whenever I see shit like the sushi burrito a...        nimamo714  \n",
       "4  b'RT @eaterpdx: Mio Sushi checks out of Hollyw...  NickyFaceBoyBoy  "
      ]
     },
     "execution_count": 160,
     "metadata": {},
     "output_type": "execute_result"
    }
   ],
   "source": [
    "tweets_csv=load_csv('tag.csv')\n",
    "tweets_csv.head()"
   ]
  },
  {
   "cell_type": "code",
   "execution_count": 150,
   "metadata": {},
   "outputs": [
    {
     "data": {
      "text/plain": [
       "Collection(Database(MongoClient(host=['localhost:27017'], document_class=dict, tz_aware=False, connect=True), 'mongo'), 'tags_collection')"
      ]
     },
     "execution_count": 150,
     "metadata": {},
     "output_type": "execute_result"
    }
   ],
   "source": [
    "database.create_collection(\"tags_collection\")"
   ]
  },
  {
   "cell_type": "code",
   "execution_count": 143,
   "metadata": {},
   "outputs": [],
   "source": [
    "result = database.tag.insert_many([{\n",
    "    \"id\" : \"1\",\n",
    "    \"name\" : \"Sushi bar\",\n",
    "},\n",
    "{\n",
    "    \"id\" : \"2\",\n",
    "    \"name\" : \"Sushi bar\",\n",
    "}])"
   ]
  },
  {
   "cell_type": "code",
   "execution_count": 174,
   "metadata": {},
   "outputs": [
    {
     "ename": "SyntaxError",
     "evalue": "invalid syntax (<ipython-input-174-3de4cb5c50be>, line 3)",
     "output_type": "error",
     "traceback": [
      "\u001b[0;36m  File \u001b[0;32m\"<ipython-input-174-3de4cb5c50be>\"\u001b[0;36m, line \u001b[0;32m3\u001b[0m\n\u001b[0;31m    show databases\u001b[0m\n\u001b[0m                 ^\u001b[0m\n\u001b[0;31mSyntaxError\u001b[0m\u001b[0;31m:\u001b[0m invalid syntax\n"
     ]
    }
   ],
   "source": [
    "#use database\n",
    "\n",
    "show databases"
   ]
  },
  {
   "cell_type": "code",
   "execution_count": 175,
   "metadata": {},
   "outputs": [
    {
     "data": {
      "text/plain": [
       "['segment', 'tag', 'tags_collection', 'tags']"
      ]
     },
     "execution_count": 175,
     "metadata": {},
     "output_type": "execute_result"
    }
   ],
   "source": [
    "database.collection_names(include_system_collections=False)"
   ]
  },
  {
   "cell_type": "code",
   "execution_count": 183,
   "metadata": {},
   "outputs": [
    {
     "data": {
      "text/plain": [
       "<pymongo.results.InsertManyResult at 0x116941788>"
      ]
     },
     "execution_count": 183,
     "metadata": {},
     "output_type": "execute_result"
    }
   ],
   "source": [
    "database.tags_collection.insert_many([{\n",
    "    \"id\" : \"100\",\n",
    "    \"name\" : \"Sushi bar\",\n",
    "},\n",
    "{\n",
    "    \"id\" : \"102\",\n",
    "    \"name\" : \"Sushi bar\",\n",
    "}])"
   ]
  },
  {
   "cell_type": "code",
   "execution_count": 184,
   "metadata": {},
   "outputs": [
    {
     "name": "stdout",
     "output_type": "stream",
     "text": [
      "{'_id': ObjectId('5ac7c3dccb47d685580e1326'), 'id': '100', 'name': 'Sushi bar'}\n",
      "{'_id': ObjectId('5ac7c3dccb47d685580e1327'), 'id': '102', 'name': 'Sushi bar'}\n"
     ]
    }
   ],
   "source": [
    "for name in database.tags.find({\"name\" : \"Sushi bar\"}):\n",
    "    pprint.pprint(name)"
   ]
  },
  {
   "cell_type": "code",
   "execution_count": 164,
   "metadata": {},
   "outputs": [
    {
     "name": "stdout",
     "output_type": "stream",
     "text": [
      "<pymongo.cursor.Cursor object at 0x116e6f518>\n"
     ]
    }
   ],
   "source": [
    "result = database.tags_collection.find({\"id\" : \"1\"})\n",
    "pprint.pprint (result)"
   ]
  },
  {
   "cell_type": "code",
   "execution_count": 113,
   "metadata": {},
   "outputs": [
    {
     "ename": "SyntaxError",
     "evalue": "invalid syntax (<ipython-input-113-7542e70acf51>, line 4)",
     "output_type": "error",
     "traceback": [
      "\u001b[0;36m  File \u001b[0;32m\"<ipython-input-113-7542e70acf51>\"\u001b[0;36m, line \u001b[0;32m4\u001b[0m\n\u001b[0;31m    \"time\" : /^.*02-27.*$/i\u001b[0m\n\u001b[0m             ^\u001b[0m\n\u001b[0;31mSyntaxError\u001b[0m\u001b[0;31m:\u001b[0m invalid syntax\n"
     ]
    }
   ],
   "source": [
    "#use('tag.csv');\n",
    "db.tag.find(\n",
    "    { \n",
    "        \"time\" : /^.*02-27.*$/i\n",
    "    }\n",
    ");"
   ]
  },
  {
   "cell_type": "code",
   "execution_count": 110,
   "metadata": {},
   "outputs": [
    {
     "ename": "NameError",
     "evalue": "name 'NumberInt' is not defined",
     "output_type": "error",
     "traceback": [
      "\u001b[0;31m---------------------------------------------------------------------------\u001b[0m",
      "\u001b[0;31mNameError\u001b[0m                                 Traceback (most recent call last)",
      "\u001b[0;32m<ipython-input-110-41bfb9bdafd1>\u001b[0m in \u001b[0;36m<module>\u001b[0;34m()\u001b[0m\n\u001b[1;32m      9\u001b[0m                 }, \n\u001b[1;32m     10\u001b[0m                 \"COUNT(*)\" : {\n\u001b[0;32m---> 11\u001b[0;31m                     \u001b[0;34m\"$sum\"\u001b[0m \u001b[0;34m:\u001b[0m \u001b[0mNumberInt\u001b[0m\u001b[0;34m(\u001b[0m\u001b[0;36m1\u001b[0m\u001b[0;34m)\u001b[0m\u001b[0;34m\u001b[0m\u001b[0m\n\u001b[0m\u001b[1;32m     12\u001b[0m                 }\n\u001b[1;32m     13\u001b[0m             }\n",
      "\u001b[0;31mNameError\u001b[0m: name 'NumberInt' is not defined"
     ]
    }
   ],
   "source": [
    "#use tag;\n",
    "\n",
    "db.tag.aggregate(\n",
    "    [\n",
    "        { \n",
    "            \"$group\" : {\n",
    "                \"_id\" : {\n",
    "                    \"name\" : \"$name\"\n",
    "                }, \n",
    "                \"COUNT(*)\" : {\n",
    "                    \"$sum\" : NumberInt(1)\n",
    "                }\n",
    "            }\n",
    "        }, \n",
    "        { \n",
    "            \"$project\" : {\n",
    "                \"_id\" : NumberInt(0), \n",
    "                \"name\" : \"$_id.name\", \n",
    "                \"COUNT(*)\" : \"$COUNT(*)\"\n",
    "            }\n",
    "        }\n",
    "    ]\n",
    ");"
   ]
  },
  {
   "cell_type": "code",
   "execution_count": null,
   "metadata": {},
   "outputs": [],
   "source": []
  }
 ],
 "metadata": {
  "kernelspec": {
   "display_name": "Python 3",
   "language": "python",
   "name": "python3"
  },
  "language_info": {
   "codemirror_mode": {
    "name": "ipython",
    "version": 3
   },
   "file_extension": ".py",
   "mimetype": "text/x-python",
   "name": "python",
   "nbconvert_exporter": "python",
   "pygments_lexer": "ipython3",
   "version": "3.6.4"
  }
 },
 "nbformat": 4,
 "nbformat_minor": 2
}
