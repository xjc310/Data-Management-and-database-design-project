{
 "cells": [
  {
   "cell_type": "code",
   "execution_count": 325,
   "metadata": {},
   "outputs": [],
   "source": [
    "%matplotlib inline\n",
    "import pymongo\n",
    "from pymongo import MongoClient\n",
    "from pymongo.errors import ConnectionFailure\n",
    "from bson import json_util, ObjectId\n",
    "import pandas as pd\n",
    "from pandas import DataFrame\n",
    "from pandas.io.json import json_normalize\n",
    "import numpy as np\n",
    "import requests\n",
    "import json, os\n",
    "import configparser\n",
    "import matplotlib.pyplot as plt\n",
    "import numpy as np\n",
    "from scipy import stats\n",
    "import seaborn as sns\n",
    "import warnings\n",
    "import random\n",
    "import pprint\n",
    "from datetime import datetime\n",
    "random.seed(datetime.now())\n",
    "warnings.filterwarnings('ignore')\n",
    "import csv\n",
    "\n",
    "# Make plots larger\n",
    "plt.rcParams['figure.figsize'] = (10, 6)"
   ]
  },
  {
   "cell_type": "code",
   "execution_count": 326,
   "metadata": {},
   "outputs": [],
   "source": [
    "import bson.regex\n",
    "from bson.regex import Regex"
   ]
  },
  {
   "cell_type": "code",
   "execution_count": 329,
   "metadata": {
    "scrolled": true
   },
   "outputs": [],
   "source": [
    "for name in database.tags_collection.find({\"time\":{\"$regex\":u\"2/27/18\"}}):\n",
    "    pprint.pprint(name)"
   ]
  },
  {
   "cell_type": "code",
   "execution_count": 317,
   "metadata": {},
   "outputs": [
    {
     "name": "stdout",
     "output_type": "stream",
     "text": [
      "Database(MongoClient(host=['localhost:27017'], document_class=dict, tz_aware=False, connect=True), 'mongo')\n"
     ]
    }
   ],
   "source": [
    "mongodb_host = 'localhost'\n",
    "mongodb_port = '27017'\n",
    "client = MongoClient(mongodb_host +':'+ mongodb_port)\n",
    "database = client['mongo']\n",
    "print (database)"
   ]
  },
  {
   "cell_type": "code",
   "execution_count": 330,
   "metadata": {},
   "outputs": [],
   "source": [
    "#CSV to JSON Conversion\n",
    "csvfile = open('tag.csv','r')\n",
    "reader = csv.DictReader(csvfile)\n",
    "mongo_client=MongoClient() \n",
    "db=mongo_client.database\n",
    "collection=db.collection\n",
    "db.segment.drop()\n",
    "header= [ 'name', 'time','text','user_name']\n",
    "\n",
    "for each in reader:\n",
    "    row={}\n",
    "    for field in header:\n",
    "        row[field]=each[field]\n",
    "\n",
    "    db.segment.insert_one(row)"
   ]
  },
  {
   "cell_type": "code",
   "execution_count": 331,
   "metadata": {},
   "outputs": [],
   "source": [
    "def load_csv(csv):\n",
    "    p=os.path.join(\"/Users/luoyichen/Desktop/\", csv)\n",
    "    print (p)\n",
    "    data=pd.read_csv(p, encoding = \"ISO-8859-1\", engine='python')\n",
    "    return data"
   ]
  },
  {
   "cell_type": "code",
   "execution_count": 332,
   "metadata": {},
   "outputs": [
    {
     "name": "stdout",
     "output_type": "stream",
     "text": [
      "/Users/luoyichen/Desktop/tag.csv\n"
     ]
    },
    {
     "data": {
      "text/html": [
       "<div>\n",
       "<style scoped>\n",
       "    .dataframe tbody tr th:only-of-type {\n",
       "        vertical-align: middle;\n",
       "    }\n",
       "\n",
       "    .dataframe tbody tr th {\n",
       "        vertical-align: top;\n",
       "    }\n",
       "\n",
       "    .dataframe thead th {\n",
       "        text-align: right;\n",
       "    }\n",
       "</style>\n",
       "<table border=\"1\" class=\"dataframe\">\n",
       "  <thead>\n",
       "    <tr style=\"text-align: right;\">\n",
       "      <th></th>\n",
       "      <th>id</th>\n",
       "      <th>name</th>\n",
       "      <th>time</th>\n",
       "      <th>text</th>\n",
       "      <th>user_name</th>\n",
       "    </tr>\n",
       "  </thead>\n",
       "  <tbody>\n",
       "    <tr>\n",
       "      <th>0</th>\n",
       "      <td>1</td>\n",
       "      <td>Sushi bar</td>\n",
       "      <td>2/27/18 23:53</td>\n",
       "      <td>b\"Brought grocery store sushi to the bar but n...</td>\n",
       "      <td>braceandshock</td>\n",
       "    </tr>\n",
       "    <tr>\n",
       "      <th>1</th>\n",
       "      <td>2</td>\n",
       "      <td>Sushi bar</td>\n",
       "      <td>2/27/18 23:40</td>\n",
       "      <td>b\"I'm at Takara Japanese Steakhouse &amp;amp; Sush...</td>\n",
       "      <td>IrepdaK</td>\n",
       "    </tr>\n",
       "    <tr>\n",
       "      <th>2</th>\n",
       "      <td>3</td>\n",
       "      <td>Sushi bar</td>\n",
       "      <td>2/27/18 23:14</td>\n",
       "      <td>b'@kailah_casillas \\xf0\\x9f\\x98\\xab\\xf0\\x9f\\x9...</td>\n",
       "      <td>ReyesMichelle95</td>\n",
       "    </tr>\n",
       "    <tr>\n",
       "      <th>3</th>\n",
       "      <td>4</td>\n",
       "      <td>Sushi bar</td>\n",
       "      <td>2/27/18 23:01</td>\n",
       "      <td>b'Whenever I see shit like the sushi burrito a...</td>\n",
       "      <td>nimamo714</td>\n",
       "    </tr>\n",
       "    <tr>\n",
       "      <th>4</th>\n",
       "      <td>5</td>\n",
       "      <td>Sushi bar</td>\n",
       "      <td>2/27/18 22:55</td>\n",
       "      <td>b'RT @eaterpdx: Mio Sushi checks out of Hollyw...</td>\n",
       "      <td>NickyFaceBoyBoy</td>\n",
       "    </tr>\n",
       "  </tbody>\n",
       "</table>\n",
       "</div>"
      ],
      "text/plain": [
       "   id       name           time  \\\n",
       "0   1  Sushi bar  2/27/18 23:53   \n",
       "1   2  Sushi bar  2/27/18 23:40   \n",
       "2   3  Sushi bar  2/27/18 23:14   \n",
       "3   4  Sushi bar  2/27/18 23:01   \n",
       "4   5  Sushi bar  2/27/18 22:55   \n",
       "\n",
       "                                                text        user_name  \n",
       "0  b\"Brought grocery store sushi to the bar but n...    braceandshock  \n",
       "1  b\"I'm at Takara Japanese Steakhouse &amp; Sush...          IrepdaK  \n",
       "2  b'@kailah_casillas \\xf0\\x9f\\x98\\xab\\xf0\\x9f\\x9...  ReyesMichelle95  \n",
       "3  b'Whenever I see shit like the sushi burrito a...        nimamo714  \n",
       "4  b'RT @eaterpdx: Mio Sushi checks out of Hollyw...  NickyFaceBoyBoy  "
      ]
     },
     "execution_count": 332,
     "metadata": {},
     "output_type": "execute_result"
    }
   ],
   "source": [
    "tweets_csv=load_csv('tag.csv')\n",
    "tweets_csv.head()"
   ]
  },
  {
   "cell_type": "code",
   "execution_count": 333,
   "metadata": {
    "scrolled": false
   },
   "outputs": [
    {
     "ename": "CollectionInvalid",
     "evalue": "collection tagtwitter already exists",
     "output_type": "error",
     "traceback": [
      "\u001b[0;31m---------------------------------------------------------------------------\u001b[0m",
      "\u001b[0;31mCollectionInvalid\u001b[0m                         Traceback (most recent call last)",
      "\u001b[0;32m<ipython-input-333-de58131fbf15>\u001b[0m in \u001b[0;36m<module>\u001b[0;34m()\u001b[0m\n\u001b[0;32m----> 1\u001b[0;31m \u001b[0mdatabase\u001b[0m\u001b[0;34m.\u001b[0m\u001b[0mcreate_collection\u001b[0m\u001b[0;34m(\u001b[0m\u001b[0;34m\"tagtwitter\"\u001b[0m\u001b[0;34m)\u001b[0m\u001b[0;34m\u001b[0m\u001b[0m\n\u001b[0m",
      "\u001b[0;32m~/anaconda3/lib/python3.6/site-packages/pymongo/database.py\u001b[0m in \u001b[0;36mcreate_collection\u001b[0;34m(self, name, codec_options, read_preference, write_concern, read_concern, session, **kwargs)\u001b[0m\n\u001b[1;32m    371\u001b[0m         \u001b[0;32mwith\u001b[0m \u001b[0mself\u001b[0m\u001b[0;34m.\u001b[0m\u001b[0m__client\u001b[0m\u001b[0;34m.\u001b[0m\u001b[0m_tmp_session\u001b[0m\u001b[0;34m(\u001b[0m\u001b[0msession\u001b[0m\u001b[0;34m)\u001b[0m \u001b[0;32mas\u001b[0m \u001b[0ms\u001b[0m\u001b[0;34m:\u001b[0m\u001b[0;34m\u001b[0m\u001b[0m\n\u001b[1;32m    372\u001b[0m             \u001b[0;32mif\u001b[0m \u001b[0mname\u001b[0m \u001b[0;32min\u001b[0m \u001b[0mself\u001b[0m\u001b[0;34m.\u001b[0m\u001b[0mcollection_names\u001b[0m\u001b[0;34m(\u001b[0m\u001b[0msession\u001b[0m\u001b[0;34m=\u001b[0m\u001b[0ms\u001b[0m\u001b[0;34m)\u001b[0m\u001b[0;34m:\u001b[0m\u001b[0;34m\u001b[0m\u001b[0m\n\u001b[0;32m--> 373\u001b[0;31m                 \u001b[0;32mraise\u001b[0m \u001b[0mCollectionInvalid\u001b[0m\u001b[0;34m(\u001b[0m\u001b[0;34m\"collection %s already exists\"\u001b[0m \u001b[0;34m%\u001b[0m \u001b[0mname\u001b[0m\u001b[0;34m)\u001b[0m\u001b[0;34m\u001b[0m\u001b[0m\n\u001b[0m\u001b[1;32m    374\u001b[0m \u001b[0;34m\u001b[0m\u001b[0m\n\u001b[1;32m    375\u001b[0m             return Collection(self, name, True, codec_options,\n",
      "\u001b[0;31mCollectionInvalid\u001b[0m: collection tagtwitter already exists"
     ]
    }
   ],
   "source": [
    "database.create_collection(\"tagtwitter\")"
   ]
  },
  {
   "cell_type": "code",
   "execution_count": 334,
   "metadata": {},
   "outputs": [
    {
     "data": {
      "text/plain": [
       "['tags_collection1', 'tagtwitter', 'tags_collection', 'tag', 'tags']"
      ]
     },
     "execution_count": 334,
     "metadata": {},
     "output_type": "execute_result"
    }
   ],
   "source": [
    "\n",
    "database.collection_names(include_system_collections=False)"
   ]
  },
  {
   "cell_type": "code",
   "execution_count": 335,
   "metadata": {},
   "outputs": [],
   "source": [
    "csvfile = open('tag.csv','r')\n",
    "reader = csv.DictReader(csvfile)\n",
    "mongo_client=MongoClient() \n",
    "\n",
    "collection=database.tagtwitter\n",
    "database.segment.drop()\n",
    "header= [ 'name', 'time','text','user_name']\n",
    "\n",
    "for each in reader:\n",
    "    row={}\n",
    "    for field in header:\n",
    "        row[field]=each[field]\n",
    "\n",
    "    database.tags_collection.insert_one(row)"
   ]
  },
  {
   "cell_type": "code",
   "execution_count": 323,
   "metadata": {},
   "outputs": [
    {
     "data": {
      "text/plain": [
       "4"
      ]
     },
     "execution_count": 323,
     "metadata": {},
     "output_type": "execute_result"
    }
   ],
   "source": [
    "database.tags_collection.count( { 'id': { '$gt': '1' } } )"
   ]
  },
  {
   "cell_type": "code",
   "execution_count": 336,
   "metadata": {
    "scrolled": true
   },
   "outputs": [
    {
     "name": "stdout",
     "output_type": "stream",
     "text": [
      "{'_id': 'burger bar', 'count': 9108}\n",
      "{'_id': 'secret pizza', 'count': 5550}\n",
      "{'_id': 'Oyster Bar', 'count': 3330}\n",
      "{'_id': 'pizza rock', 'count': 3210}\n",
      "{'_id': 'Sushi bar', 'count': 6016}\n"
     ]
    }
   ],
   "source": [
    "for post in database.tags_collection.aggregate([{'$group':{'_id':'$name','count':{'$sum':1}}}]):\n",
    "    print(post)"
   ]
  },
  {
   "cell_type": "code",
   "execution_count": 307,
   "metadata": {},
   "outputs": [
    {
     "ename": "SyntaxError",
     "evalue": "invalid syntax (<ipython-input-307-1b823423f57f>, line 3)",
     "output_type": "error",
     "traceback": [
      "\u001b[0;36m  File \u001b[0;32m\"<ipython-input-307-1b823423f57f>\"\u001b[0;36m, line \u001b[0;32m3\u001b[0m\n\u001b[0;31m    {'$group':{'_id':'$name','namecount':{'$sum':1}}}}\u001b[0m\n\u001b[0m                                                     ^\u001b[0m\n\u001b[0;31mSyntaxError\u001b[0m\u001b[0;31m:\u001b[0m invalid syntax\n"
     ]
    }
   ],
   "source": [
    "for post in database.tags_collection.aggregate([\n",
    "    {'$group':{'_id':'$name','count':{'$sum':1}}}\n",
    "     ]):\n",
    "    print(post)"
   ]
  },
  {
   "cell_type": "code",
   "execution_count": 338,
   "metadata": {},
   "outputs": [
    {
     "ename": "AttributeError",
     "evalue": "'str' object has no attribute '_client'",
     "output_type": "error",
     "traceback": [
      "\u001b[0;31m---------------------------------------------------------------------------\u001b[0m",
      "\u001b[0;31mAttributeError\u001b[0m                            Traceback (most recent call last)",
      "\u001b[0;32m<ipython-input-338-21c4e301ae26>\u001b[0m in \u001b[0;36m<module>\u001b[0;34m()\u001b[0m\n\u001b[0;32m----> 1\u001b[0;31m \u001b[0mdatabase\u001b[0m\u001b[0;34m.\u001b[0m\u001b[0mcollection\u001b[0m\u001b[0;34m.\u001b[0m\u001b[0mdrop\u001b[0m\u001b[0;34m(\u001b[0m\u001b[0;34m\"tag\"\u001b[0m\u001b[0;34m)\u001b[0m\u001b[0;34m\u001b[0m\u001b[0m\n\u001b[0m",
      "\u001b[0;32m~/anaconda3/lib/python3.6/site-packages/pymongo/collection.py\u001b[0m in \u001b[0;36mdrop\u001b[0;34m(self, session)\u001b[0m\n\u001b[1;32m   1060\u001b[0m            \u001b[0mAdded\u001b[0m\u001b[0;31m \u001b[0m\u001b[0;31m`\u001b[0m\u001b[0;31m`\u001b[0m\u001b[0msession\u001b[0m\u001b[0;31m`\u001b[0m\u001b[0;31m`\u001b[0m \u001b[0mparameter\u001b[0m\u001b[0;34m.\u001b[0m\u001b[0;34m\u001b[0m\u001b[0m\n\u001b[1;32m   1061\u001b[0m         \"\"\"\n\u001b[0;32m-> 1062\u001b[0;31m         \u001b[0mself\u001b[0m\u001b[0;34m.\u001b[0m\u001b[0m__database\u001b[0m\u001b[0;34m.\u001b[0m\u001b[0mdrop_collection\u001b[0m\u001b[0;34m(\u001b[0m\u001b[0mself\u001b[0m\u001b[0;34m.\u001b[0m\u001b[0m__name\u001b[0m\u001b[0;34m,\u001b[0m \u001b[0msession\u001b[0m\u001b[0;34m=\u001b[0m\u001b[0msession\u001b[0m\u001b[0;34m)\u001b[0m\u001b[0;34m\u001b[0m\u001b[0m\n\u001b[0m\u001b[1;32m   1063\u001b[0m \u001b[0;34m\u001b[0m\u001b[0m\n\u001b[1;32m   1064\u001b[0m     def _delete(\n",
      "\u001b[0;32m~/anaconda3/lib/python3.6/site-packages/pymongo/database.py\u001b[0m in \u001b[0;36mdrop_collection\u001b[0;34m(self, name_or_collection, session)\u001b[0m\n\u001b[1;32m    655\u001b[0m                 \u001b[0mwrite_concern\u001b[0m\u001b[0;34m=\u001b[0m\u001b[0mself\u001b[0m\u001b[0;34m.\u001b[0m\u001b[0mwrite_concern\u001b[0m\u001b[0;34m,\u001b[0m\u001b[0;34m\u001b[0m\u001b[0m\n\u001b[1;32m    656\u001b[0m                 \u001b[0mparse_write_concern_error\u001b[0m\u001b[0;34m=\u001b[0m\u001b[0;32mTrue\u001b[0m\u001b[0;34m,\u001b[0m\u001b[0;34m\u001b[0m\u001b[0m\n\u001b[0;32m--> 657\u001b[0;31m                 session=session)\n\u001b[0m\u001b[1;32m    658\u001b[0m \u001b[0;34m\u001b[0m\u001b[0m\n\u001b[1;32m    659\u001b[0m     def validate_collection(self, name_or_collection,\n",
      "\u001b[0;32m~/anaconda3/lib/python3.6/site-packages/pymongo/database.py\u001b[0m in \u001b[0;36m_command\u001b[0;34m(self, sock_info, command, slave_ok, value, check, allowable_errors, read_preference, codec_options, write_concern, parse_write_concern_error, session, **kwargs)\u001b[0m\n\u001b[1;32m    437\u001b[0m                 \u001b[0mparse_write_concern_error\u001b[0m\u001b[0;34m=\u001b[0m\u001b[0mparse_write_concern_error\u001b[0m\u001b[0;34m,\u001b[0m\u001b[0;34m\u001b[0m\u001b[0m\n\u001b[1;32m    438\u001b[0m                 \u001b[0msession\u001b[0m\u001b[0;34m=\u001b[0m\u001b[0ms\u001b[0m\u001b[0;34m,\u001b[0m\u001b[0;34m\u001b[0m\u001b[0m\n\u001b[0;32m--> 439\u001b[0;31m                 client=self.__client)\n\u001b[0m\u001b[1;32m    440\u001b[0m \u001b[0;34m\u001b[0m\u001b[0m\n\u001b[1;32m    441\u001b[0m     def command(self, command, value=1, check=True,\n",
      "\u001b[0;32m~/anaconda3/lib/python3.6/site-packages/pymongo/pool.py\u001b[0m in \u001b[0;36mcommand\u001b[0;34m(self, dbname, spec, slave_ok, read_preference, codec_options, check, allowable_errors, check_keys, read_concern, write_concern, parse_write_concern_error, collation, session, client, retryable_write, publish_events)\u001b[0m\n\u001b[1;32m    482\u001b[0m           \u001b[0;34m-\u001b[0m\u001b[0;31m \u001b[0m\u001b[0;31m`\u001b[0m\u001b[0mpublish_events\u001b[0m\u001b[0;31m`\u001b[0m\u001b[0;34m:\u001b[0m \u001b[0mShould\u001b[0m \u001b[0mwe\u001b[0m \u001b[0mpublish\u001b[0m \u001b[0mevents\u001b[0m \u001b[0;32mfor\u001b[0m \u001b[0mthis\u001b[0m \u001b[0mcommand\u001b[0m\u001b[0;31m?\u001b[0m\u001b[0;34m\u001b[0m\u001b[0m\n\u001b[1;32m    483\u001b[0m         \"\"\"\n\u001b[0;32m--> 484\u001b[0;31m         \u001b[0mself\u001b[0m\u001b[0;34m.\u001b[0m\u001b[0mvalidate_session\u001b[0m\u001b[0;34m(\u001b[0m\u001b[0mclient\u001b[0m\u001b[0;34m,\u001b[0m \u001b[0msession\u001b[0m\u001b[0;34m)\u001b[0m\u001b[0;34m\u001b[0m\u001b[0m\n\u001b[0m\u001b[1;32m    485\u001b[0m         if (read_concern and self.max_wire_version < 4\n\u001b[1;32m    486\u001b[0m                 and not read_concern.ok_for_legacy):\n",
      "\u001b[0;32m~/anaconda3/lib/python3.6/site-packages/pymongo/pool.py\u001b[0m in \u001b[0;36mvalidate_session\u001b[0;34m(self, client, session)\u001b[0m\n\u001b[1;32m    628\u001b[0m         \"\"\"\n\u001b[1;32m    629\u001b[0m         \u001b[0;32mif\u001b[0m \u001b[0msession\u001b[0m\u001b[0;34m:\u001b[0m\u001b[0;34m\u001b[0m\u001b[0m\n\u001b[0;32m--> 630\u001b[0;31m             \u001b[0;32mif\u001b[0m \u001b[0msession\u001b[0m\u001b[0;34m.\u001b[0m\u001b[0m_client\u001b[0m \u001b[0;32mis\u001b[0m \u001b[0;32mnot\u001b[0m \u001b[0mclient\u001b[0m\u001b[0;34m:\u001b[0m\u001b[0;34m\u001b[0m\u001b[0m\n\u001b[0m\u001b[1;32m    631\u001b[0m                 raise InvalidOperation(\n\u001b[1;32m    632\u001b[0m                     \u001b[0;34m'Can only use session with the MongoClient that'\u001b[0m\u001b[0;34m\u001b[0m\u001b[0m\n",
      "\u001b[0;31mAttributeError\u001b[0m: 'str' object has no attribute '_client'"
     ]
    }
   ],
   "source": []
  },
  {
   "cell_type": "code",
   "execution_count": null,
   "metadata": {},
   "outputs": [],
   "source": []
  }
 ],
 "metadata": {
  "kernelspec": {
   "display_name": "Python 3",
   "language": "python",
   "name": "python3"
  },
  "language_info": {
   "codemirror_mode": {
    "name": "ipython",
    "version": 3
   },
   "file_extension": ".py",
   "mimetype": "text/x-python",
   "name": "python",
   "nbconvert_exporter": "python",
   "pygments_lexer": "ipython3",
   "version": "3.6.4"
  }
 },
 "nbformat": 4,
 "nbformat_minor": 2
}
